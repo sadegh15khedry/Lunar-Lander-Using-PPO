{
 "cells": [
  {
   "cell_type": "code",
   "execution_count": null,
   "metadata": {},
   "outputs": [],
   "source": [
    "import sys\n",
    "import os\n",
    "sys.path.append(os.path.abspath('../src'))\n",
    "os.environ['KMP_DUPLICATE_LIB_OK'] = 'TRUE'\n",
    "from lunar_lander_training import run_random_algorithm, run_PPO_algorithm\n",
    "from utils import get_env, load_model\n",
    "import gymnasium as gym"
   ]
  },
  {
   "cell_type": "code",
   "execution_count": null,
   "metadata": {},
   "outputs": [],
   "source": [
    "# Settig up Variables\n",
    "algorithm = 'PPO'\n",
    "load = False\n",
    "total_timesteps = 10000\n",
    "render_mode=\"human\"\n",
    "env_name = \"LunarLander-v2\"\n",
    "model_path = '../models/ppo_model.zip'\n",
    "log_interval=10 \n",
    "verbose=1 \n",
    "tensorboard_log=\"./ppo_lunarlander_tensorboard/\"\n"
   ]
  },
  {
   "cell_type": "code",
   "execution_count": null,
   "metadata": {},
   "outputs": [],
   "source": [
    "# Setting up our environment\n",
    "env = get_env(env_name, render_mode)\n"
   ]
  },
  {
   "cell_type": "code",
   "execution_count": null,
   "metadata": {},
   "outputs": [],
   "source": [
    "# Runnig the lunar lande\n",
    "if algorithm == 'random':\n",
    "   run_random_algorithm(env, total_timesteps)\n",
    "elif algorithm == 'PPO':\n",
    "   run_PPO_algorithm(env, total_timesteps, load=False, log_interval=log_interval, tensorboard_log=tensorboard_log)"
   ]
  },
  {
   "cell_type": "markdown",
   "metadata": {},
   "source": []
  }
 ],
 "metadata": {
  "kernelspec": {
   "display_name": "Python 3 (ipykernel)",
   "language": "python",
   "name": "python3"
  },
  "language_info": {
   "codemirror_mode": {
    "name": "ipython",
    "version": 3
   },
   "file_extension": ".py",
   "mimetype": "text/x-python",
   "name": "python",
   "nbconvert_exporter": "python",
   "pygments_lexer": "ipython3",
   "version": "3.9.19"
  }
 },
 "nbformat": 4,
 "nbformat_minor": 2
}
