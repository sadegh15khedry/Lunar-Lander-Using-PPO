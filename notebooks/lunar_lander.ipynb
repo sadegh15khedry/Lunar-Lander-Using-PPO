{
 "cells": [
  {
   "cell_type": "code",
   "execution_count": 1,
   "metadata": {},
   "outputs": [],
   "source": [
    "import sys\n",
    "import os\n",
    "sys.path.append(os.path.abspath('../src'))\n",
    "os.environ['KMP_DUPLICATE_LIB_OK'] = 'TRUE'\n",
    "from lunar_lander_algorithms import run_random_algorithm, get_env , run_PPO_algorithm\n",
    "from stable_baselines3.common.vec_env import DummyVecEnv\n",
    "import gymnasium as gym"
   ]
  },
  {
   "cell_type": "code",
   "execution_count": 2,
   "metadata": {},
   "outputs": [],
   "source": [
    "# settig up Variables\n",
    "episodes = 10\n",
    "algorithm = 'PPO'\n",
    "load = False\n",
    "total_timesteps = 100000\n",
    "render_mode=\"human\"\n",
    "env_name = \"LunarLander-v2\""
   ]
  },
  {
   "cell_type": "code",
   "execution_count": 4,
   "metadata": {},
   "outputs": [],
   "source": [
    "#setting up our environment\n",
    "env = get_env(env_name, render_mode)\n",
    "# env = gym.make(env_name, render_mode=render_mode)\n",
    "# env = DummyVecEnv([lambda: env])"
   ]
  },
  {
   "cell_type": "code",
   "execution_count": 6,
   "metadata": {},
   "outputs": [
    {
     "name": "stdout",
     "output_type": "stream",
     "text": [
      "Episode: 0  Score: -110.85734803484982\n",
      "Episode: 1  Score: -185.0335733375505\n",
      "Episode: 2  Score: -114.08619549256008\n",
      "Episode: 3  Score: -112.86543766125367\n",
      "Episode: 4  Score: -118.58395444610682\n",
      "Episode: 5  Score: -117.13318854543566\n",
      "Episode: 6  Score: -145.97047212041355\n",
      "Episode: 7  Score: -97.3093703879879\n",
      "Episode: 8  Score: -108.10578386163749\n",
      "Episode: 9  Score: -99.34147802597802\n"
     ]
    }
   ],
   "source": [
    "# runnig the lunar lande\n",
    "if algorithm == 'random':\n",
    "   run_random_algorithm(env, episodes)\n",
    "elif algorithm == 'PPO':\n",
    "   run_PPO_algorithm(env, total_timesteps, load=False)"
   ]
  }
 ],
 "metadata": {
  "kernelspec": {
   "display_name": "Python 3 (ipykernel)",
   "language": "python",
   "name": "python3"
  },
  "language_info": {
   "codemirror_mode": {
    "name": "ipython",
    "version": 3
   },
   "file_extension": ".py",
   "mimetype": "text/x-python",
   "name": "python",
   "nbconvert_exporter": "python",
   "pygments_lexer": "ipython3",
   "version": "3.9.19"
  }
 },
 "nbformat": 4,
 "nbformat_minor": 2
}
