{
 "cells": [
  {
   "cell_type": "code",
   "execution_count": 6,
   "metadata": {},
   "outputs": [],
   "source": [
    "import sys\n",
    "import os\n",
    "sys.path.append(os.path.abspath('../src'))\n",
    "os.environ['KMP_DUPLICATE_LIB_OK'] = 'TRUE'\n",
    "from lunar_lander_training import run_random_algorithm, run_PPO_algorithm\n",
    "from utils import load_model, get_env\n",
    "from stable_baselines3.common.vec_env import DummyVecEnv\n",
    "import numpy as np\n",
    "import gymnasium as gym"
   ]
  },
  {
   "cell_type": "code",
   "execution_count": 7,
   "metadata": {},
   "outputs": [],
   "source": [
    "# Setting up variables\n",
    "model_path = '../models/ppo_model.zip'\n",
    "episodes = 10\n",
    "total_timesteps = 10000\n",
    "render_mode=\"human\"\n",
    "env_name = \"LunarLander-v2\""
   ]
  },
  {
   "cell_type": "code",
   "execution_count": 8,
   "metadata": {},
   "outputs": [],
   "source": [
    "#setting up our environment\n",
    "env = get_env(env_name, render_mode)"
   ]
  },
  {
   "cell_type": "code",
   "execution_count": 9,
   "metadata": {},
   "outputs": [],
   "source": [
    "# Loading the model\n",
    "model = load_model(model_path)"
   ]
  },
  {
   "cell_type": "code",
   "execution_count": 10,
   "metadata": {},
   "outputs": [
    {
     "name": "stdout",
     "output_type": "stream",
     "text": [
      "Episode 1 finished with score: -42.33678123520906\n",
      "Episode 2 finished with score: 76.1753790786468\n",
      "Episode 3 finished with score: 46.31005081355374\n",
      "Episode 4 finished with score: 93.2627206908075\n",
      "Episode 5 finished with score: -126.43881060974235\n",
      "Episode 6 finished with score: -44.931866194334766\n",
      "Episode 7 finished with score: -29.420179224978696\n",
      "Episode 8 finished with score: 11.453701094902074\n",
      "Episode 9 finished with score: -47.234022585445196\n",
      "Episode 10 finished with score: -95.43290021139731\n",
      "\n",
      "Evaluation Metrics:\n",
      "Average Return: -15.859270838319722\n",
      "Standard Deviation of Return: 68.01716956752993\n",
      "Success Rate: 0.0%\n",
      "Average Episode Length: 419.9\n"
     ]
    }
   ],
   "source": [
    " # Evaluteing our model\n",
    "episode_rewards = []\n",
    "episode_lengths = []\n",
    "success_threshold = 200  # Define a success criterion, e.g., a score above 200\n",
    "successes = 0\n",
    "for episode in range(episodes):\n",
    "        observation, info = env.reset()\n",
    "        done = False\n",
    "        score = 0\n",
    "        length = 0\n",
    "        while not done:\n",
    "            env.render()\n",
    "            action, _ = model.predict(observation)\n",
    "            try:\n",
    "                observation, reward, done, info = env.step(action)\n",
    "            except ValueError:\n",
    "                observation, reward, done, truncated, info = env.step(action)\n",
    "                done = done or truncated\n",
    "            score += reward\n",
    "            length += 1\n",
    "        \n",
    "        episode_rewards.append(score)\n",
    "        episode_lengths.append(length)\n",
    "        if score >= success_threshold:\n",
    "            successes += 1\n",
    "\n",
    "        print(f\"Episode {episode + 1} finished with score: {score}\")\n",
    "\n",
    "env.close()\n",
    "\n",
    "# Calculate metrics\n",
    "average_return = np.mean(episode_rewards)\n",
    "std_return = np.std(episode_rewards)\n",
    "success_rate = successes / episodes\n",
    "average_length = np.mean(episode_lengths)\n",
    "\n",
    "print(\"\\nEvaluation Metrics:\")\n",
    "print(f\"Average Return: {average_return}\")\n",
    "print(f\"Standard Deviation of Return: {std_return}\")\n",
    "print(f\"Success Rate: {success_rate * 100}%\")\n",
    "print(f\"Average Episode Length: {average_length}\")"
   ]
  }
 ],
 "metadata": {
  "kernelspec": {
   "display_name": "Python 3 (ipykernel)",
   "language": "python",
   "name": "python3"
  },
  "language_info": {
   "codemirror_mode": {
    "name": "ipython",
    "version": 3
   },
   "file_extension": ".py",
   "mimetype": "text/x-python",
   "name": "python",
   "nbconvert_exporter": "python",
   "pygments_lexer": "ipython3",
   "version": "3.9.19"
  }
 },
 "nbformat": 4,
 "nbformat_minor": 2
}
